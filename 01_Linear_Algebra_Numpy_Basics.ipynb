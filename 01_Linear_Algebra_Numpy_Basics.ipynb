{
  "nbformat": 4,
  "nbformat_minor": 0,
  "metadata": {
    "colab": {
      "provenance": [],
      "authorship_tag": "ABX9TyPeGU3Vwek3sMeDnNXIHPss",
      "include_colab_link": true
    },
    "kernelspec": {
      "name": "python3",
      "display_name": "Python 3"
    },
    "language_info": {
      "name": "python"
    }
  },
  "cells": [
    {
      "cell_type": "markdown",
      "metadata": {
        "id": "view-in-github",
        "colab_type": "text"
      },
      "source": [
        "<a href=\"https://colab.research.google.com/github/atirek89/ai-ml-foundations/blob/main/01_Linear_Algebra_Numpy_Basics.ipynb\" target=\"_parent\"><img src=\"https://colab.research.google.com/assets/colab-badge.svg\" alt=\"Open In Colab\"/></a>"
      ]
    },
    {
      "cell_type": "code",
      "execution_count": null,
      "metadata": {
        "colab": {
          "base_uri": "https://localhost:8080/"
        },
        "id": "r2RhoTSpr0Vp",
        "outputId": "2a4bfb1c-02aa-4222-80f0-8fbba945bca9"
      },
      "outputs": [
        {
          "output_type": "stream",
          "name": "stdout",
          "text": [
            "Transpose of A:\n",
            " [[2 4]\n",
            " [3 5]]\n",
            "A dot B:\n",
            " [[11 16]\n",
            " [19 28]]\n",
            "Inverse of A:\n",
            " [[-2.5  1.5]\n",
            " [ 2.  -1. ]]\n"
          ]
        }
      ],
      "source": [
        "import numpy as np\n",
        "\n",
        "# Create a 2x2 matrix\n",
        "A = np.array([[2, 3], [4, 5]])\n",
        "\n",
        "# Transpose of A\n",
        "print(\"Transpose of A:\\n\", A.T)\n",
        "\n",
        "# Matrix multiplication (dot product)\n",
        "B = np.array([[1, 2], [3, 4]])\n",
        "print(\"A dot B:\\n\", np.dot(A, B))\n",
        "\n",
        "# Inverse of A\n",
        "A_inv = np.linalg.inv(A)\n",
        "print(\"Inverse of A:\\n\", A_inv)"
      ]
    }
  ]
}